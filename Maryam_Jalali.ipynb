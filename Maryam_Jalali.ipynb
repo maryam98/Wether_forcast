{
  "nbformat": 4,
  "nbformat_minor": 0,
  "metadata": {
    "colab": {
      "provenance": [],
      "authorship_tag": "ABX9TyOml57OweKDr26QWqT9bDGk",
      "include_colab_link": true
    },
    "kernelspec": {
      "name": "python3",
      "display_name": "Python 3"
    },
    "language_info": {
      "name": "python"
    }
  },
  "cells": [
    {
      "cell_type": "markdown",
      "metadata": {
        "id": "view-in-github",
        "colab_type": "text"
      },
      "source": [
        "<a href=\"https://colab.research.google.com/github/maryam98/Wether_forcast/blob/main/Maryam_Jalali.ipynb\" target=\"_parent\"><img src=\"https://colab.research.google.com/assets/colab-badge.svg\" alt=\"Open In Colab\"/></a>"
      ]
    },
    {
      "cell_type": "code",
      "execution_count": 7,
      "metadata": {
        "colab": {
          "base_uri": "https://localhost:8080/"
        },
        "id": "gfSm9pqKai0k",
        "outputId": "7ad4dadb-10b9-436f-87cc-4d3ba7a1485b"
      },
      "outputs": [
        {
          "output_type": "stream",
          "name": "stdout",
          "text": [
            "Enter your email address: maryamjalali98@Gmail.com\n",
            "Weather forecast sent successfully!\n"
          ]
        }
      ],
      "source": [
        "import requests\n",
        "import smtplib\n",
        "from email.mime.text import MIMEText\n",
        "from email.mime.multipart import MIMEMultipart\n",
        "import json\n",
        "# Weather API configuration\n",
        "api_key = \"031b299d364e1ae846df5eee6d95b548\"\n",
        "base_url = \"http://api.openweathermap.org/data/2.5/forecast\"\n",
        "cities = {\n",
        "    \"Berlin\": \"DE\",\n",
        "    \"Jakarta\": \"ID\",\n",
        "}\n",
        "\n",
        "# Email configuration\n",
        "config_url = \"https://raw.githubusercontent.com/maryam98/Wether_forcast/main/config.json\"\n",
        "response = requests.get(config_url)\n",
        "config = response.json()\n",
        "\n",
        "sender_email = config[\"sender_email\"]\n",
        "sender_password = config[\"sender_password\"]\n",
        "\n",
        "def get_weather_forecast(city, country):\n",
        "    url = f\"{base_url}?q={city},{country}&appid={api_key}&units=metric\"\n",
        "    response = requests.get(url)\n",
        "    data = response.json()\n",
        "    forecast = []\n",
        "    for entry in data[\"list\"]:\n",
        "        forecast.append(f\"{entry['dt_txt']} - {entry['weather'][0]['description']} - {entry['main']['temp']}°C\")\n",
        "    return \"\\n\".join(forecast)\n",
        "\n",
        "def send_weather_forecast_email(receiver_email, city_forecast):\n",
        "    subject = \"Weather Forecast for Berlin and Jakarta (14 days)\"\n",
        "    body = f\"Here's the weather forecast for Berlin and Jakarta:\\n\\n{city_forecast}\"\n",
        "\n",
        "    message = MIMEMultipart()\n",
        "    message[\"From\"] = sender_email\n",
        "    message[\"To\"] = receiver_email\n",
        "    message[\"Subject\"] = subject\n",
        "    message.attach(MIMEText(body, \"plain\"))\n",
        "\n",
        "    server = smtplib.SMTP(\"smtp.gmail.com\", 587)\n",
        "    server.starttls()\n",
        "    server.login(sender_email, sender_password)\n",
        "    server.sendmail(sender_email, receiver_email, message.as_string())\n",
        "    server.quit()\n",
        "\n",
        "def main():\n",
        "    receiver_email = input(\"Enter your email address: \")\n",
        "    berlin_forecast = get_weather_forecast(\"Berlin\", cities[\"Berlin\"])\n",
        "    jakarta_forecast = get_weather_forecast(\"Jakarta\", cities[\"Jakarta\"])\n",
        "    full_forecast = f\"Berlin:\\n{berlin_forecast}\\n\\nJakarta:\\n{jakarta_forecast}\"\n",
        "    send_weather_forecast_email(receiver_email, full_forecast)\n",
        "    print(\"Weather forecast sent successfully!\")\n",
        "\n",
        "if __name__ == \"__main__\":\n",
        "    main()\n"
      ]
    }
  ]
}